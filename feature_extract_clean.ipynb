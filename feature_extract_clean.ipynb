{
 "cells": [
  {
   "cell_type": "code",
   "execution_count": 1,
   "metadata": {},
   "outputs": [],
   "source": [
    "import numpy as np, os, sys\n",
    "import pandas as pd\n",
    "\n",
    "input_file = './testing_stepwise.csv'"
   ]
  },
  {
   "cell_type": "code",
   "execution_count": 2,
   "metadata": {},
   "outputs": [],
   "source": [
    "data = pd.read_csv(input_file, delimiter=',')"
   ]
  },
  {
   "cell_type": "code",
   "execution_count": 3,
   "metadata": {},
   "outputs": [],
   "source": [
    "###THIS IS FAKE. THIS IS WHAT CURRENT DATA WILL LOOK LIKE FOR TRAINING BUT NOT TESTING. \n",
    "\n",
    "column_names = [\n",
    "    \"pct_HR\", \"pct_O2Sat\", \"pct_Temp\", \"pct_SBP\", \"pct_MAP\", \"pct_DBP\", \"pct_Resp\", \"pct_FiO2\", \"pct_pH\", \"pct_PaCO2\", \"pct_BUN\", \n",
    "    \"pct_Calcium\", \"pct_Creatinine\", \"pct_Glucose\", \"pct_Magnesium\", \"pct_Potassium\", \"pct_Hct\", \"pct_Hgb\", \"pct_WBC\", \"pct_Platelets\",\n",
    "    \n",
    "    \"6mean_HR\", \"6mean_O2Sat\", \"6mean_Temp\", \"6mean_SBP\", \"6mean_MAP\", \"6mean_DBP\", \"6mean_Resp\", \"6mean_FiO2\", \"6mean_pH\", \"6mean_PaCO2\", \"6mean_BUN\", \n",
    "    \"6mean_Calcium\", \"6mean_Creatinine\", \"6mean_Glucose\", \"6mean_Magnesium\", \"6mean_Potassium\", \"6mean_Hct\", \"6mean_Hgb\", \"6mean_WBC\", \"6mean_Platelets\", \n",
    "    \n",
    "    \"6std_HR\", \"6std_O2Sat\", \"6std_Temp\", \"6std_SBP\", \"6std_MAP\", \"6std_DBP\", \"6std_Resp\", \"6std_FiO2\", \"6std_pH\", \"6std_PaCO2\", \"6std_BUN\", \n",
    "    \"6std_Calcium\", \"6std_Creatinine\", \"6std_Glucose\", \"6std_Magnesium\", \"6std_Potassium\", \"6std_Hct\", \"6std_Hgb\", \"6std_WBC\", \"6std_Platelets\",\n",
    "    \n",
    "    \"ICULOS\", \"HR\", \"O2Sat\", \"Temp\", \"SBP\", \"MAP\", \"DBP\", \"Resp\", \"FiO2\", \"pH\", \"PaCO2\", \"BUN\", \n",
    "    \"Calcium\", \"Creatinine\", \"Glucose\", \"Magnesium\", \"Potassium\", \"Hct\", \"Hgb\", \"WBC\", \"Platelets\", \n",
    "    \"Age\", \"Sex\", \"SepsisLabel\",\n",
    "    \n",
    "]"
   ]
  },
  {
   "cell_type": "code",
   "execution_count": 4,
   "metadata": {},
   "outputs": [],
   "source": [
    "####for train, need to make big DF with all features\n",
    "####for test, just need to get the computed features and the last row and append them all. \n",
    "### example of how the actual test works. \n",
    "\n",
    "num_rows = len(data)\n",
    "for t in range(num_rows):\n",
    "    current_data = data[:t+1]"
   ]
  },
  {
   "cell_type": "code",
   "execution_count": 5,
   "metadata": {},
   "outputs": [],
   "source": [
    "####feed these into feature extraction, no sense in performing mean, std, pctmiss of some features\n",
    "### drop iculos age sex sepsislabel FROM FEATUER ENGINEERING PART ONLY. add last row back at end \n",
    "###change 3 to whatever \"t\"\n",
    "\n",
    "feature_data = data.iloc[0:3,1:21]"
   ]
  },
  {
   "cell_type": "code",
   "execution_count": 6,
   "metadata": {},
   "outputs": [],
   "source": [
    "#defines a 6hr window, i just pulled this from a paper, the window will likely be different for our task \n",
    "## as our scoring function is different, did not have time to optimize this. \n",
    "\n",
    "def six_hr_window(current_data):\n",
    "    if current_data.shape[0] < 6:\n",
    "        return current_data\n",
    "    else:\n",
    "        return current_data.iloc[-6:]"
   ]
  },
  {
   "cell_type": "code",
   "execution_count": 7,
   "metadata": {},
   "outputs": [],
   "source": [
    "pct_fill_temp = 1- ((feature_data.isna().sum()/feature_data.shape[0]))\n",
    "mean_temp = (six_hr_window(feature_data).mean())\n",
    "std_temp = (six_hr_window(feature_data).std())\n",
    "last_temp = (data.iloc[3,:])\n",
    "\n",
    "\n",
    "####features in order - percentage fill, mean from 6hr window, std from 6hr window, last row\n",
    "\n",
    "###last_temp adds the last row back, change 3 to whatever \"t\" "
   ]
  },
  {
   "cell_type": "code",
   "execution_count": 8,
   "metadata": {},
   "outputs": [],
   "source": [
    "#labels_df = pd.DataFrame(columns = column_names)"
   ]
  },
  {
   "cell_type": "code",
   "execution_count": 9,
   "metadata": {},
   "outputs": [],
   "source": [
    "temp_df = pd.concat([pct_fill_temp, mean_temp,std_temp,last_temp],ignore_index = True).to_frame().T"
   ]
  },
  {
   "cell_type": "code",
   "execution_count": 10,
   "metadata": {},
   "outputs": [],
   "source": [
    "for col in temp_df:\n",
    "    temp_df.rename(columns={col:column_names[col]},inplace=True)"
   ]
  },
  {
   "cell_type": "code",
   "execution_count": 11,
   "metadata": {},
   "outputs": [
    {
     "data": {
      "text/html": [
       "<div>\n",
       "<style scoped>\n",
       "    .dataframe tbody tr th:only-of-type {\n",
       "        vertical-align: middle;\n",
       "    }\n",
       "\n",
       "    .dataframe tbody tr th {\n",
       "        vertical-align: top;\n",
       "    }\n",
       "\n",
       "    .dataframe thead th {\n",
       "        text-align: right;\n",
       "    }\n",
       "</style>\n",
       "<table border=\"1\" class=\"dataframe\">\n",
       "  <thead>\n",
       "    <tr style=\"text-align: right;\">\n",
       "      <th></th>\n",
       "      <th>pct_HR</th>\n",
       "      <th>pct_O2Sat</th>\n",
       "      <th>pct_Temp</th>\n",
       "      <th>pct_SBP</th>\n",
       "      <th>pct_MAP</th>\n",
       "      <th>pct_DBP</th>\n",
       "      <th>pct_Resp</th>\n",
       "      <th>pct_FiO2</th>\n",
       "      <th>pct_pH</th>\n",
       "      <th>pct_PaCO2</th>\n",
       "      <th>...</th>\n",
       "      <th>Glucose</th>\n",
       "      <th>Magnesium</th>\n",
       "      <th>Potassium</th>\n",
       "      <th>Hct</th>\n",
       "      <th>Hgb</th>\n",
       "      <th>WBC</th>\n",
       "      <th>Platelets</th>\n",
       "      <th>Age</th>\n",
       "      <th>Sex</th>\n",
       "      <th>SepsisLabel</th>\n",
       "    </tr>\n",
       "  </thead>\n",
       "  <tbody>\n",
       "    <tr>\n",
       "      <th>0</th>\n",
       "      <td>0.666667</td>\n",
       "      <td>0.666667</td>\n",
       "      <td>0.333333</td>\n",
       "      <td>0.666667</td>\n",
       "      <td>0.666667</td>\n",
       "      <td>0.666667</td>\n",
       "      <td>0.666667</td>\n",
       "      <td>0.0</td>\n",
       "      <td>0.0</td>\n",
       "      <td>0.0</td>\n",
       "      <td>...</td>\n",
       "      <td>NaN</td>\n",
       "      <td>NaN</td>\n",
       "      <td>NaN</td>\n",
       "      <td>27.5</td>\n",
       "      <td>NaN</td>\n",
       "      <td>NaN</td>\n",
       "      <td>NaN</td>\n",
       "      <td>87.8</td>\n",
       "      <td>0.0</td>\n",
       "      <td>0.0</td>\n",
       "    </tr>\n",
       "  </tbody>\n",
       "</table>\n",
       "<p>1 rows × 84 columns</p>\n",
       "</div>"
      ],
      "text/plain": [
       "     pct_HR  pct_O2Sat  pct_Temp   pct_SBP   pct_MAP   pct_DBP  pct_Resp  \\\n",
       "0  0.666667   0.666667  0.333333  0.666667  0.666667  0.666667  0.666667   \n",
       "\n",
       "   pct_FiO2  pct_pH  pct_PaCO2  ...  Glucose  Magnesium  Potassium   Hct  Hgb  \\\n",
       "0       0.0     0.0        0.0  ...      NaN        NaN        NaN  27.5  NaN   \n",
       "\n",
       "   WBC  Platelets   Age  Sex  SepsisLabel  \n",
       "0  NaN        NaN  87.8  0.0          0.0  \n",
       "\n",
       "[1 rows x 84 columns]"
      ]
     },
     "execution_count": 11,
     "metadata": {},
     "output_type": "execute_result"
    }
   ],
   "source": [
    "temp_df"
   ]
  },
  {
   "cell_type": "code",
   "execution_count": null,
   "metadata": {},
   "outputs": [],
   "source": [
    "#####this is what we want each row of the training set to look like"
   ]
  }
 ],
 "metadata": {
  "kernelspec": {
   "display_name": "Python 3",
   "language": "python",
   "name": "python3"
  },
  "language_info": {
   "codemirror_mode": {
    "name": "ipython",
    "version": 3
   },
   "file_extension": ".py",
   "mimetype": "text/x-python",
   "name": "python",
   "nbconvert_exporter": "python",
   "pygments_lexer": "ipython3",
   "version": "3.9.0"
  }
 },
 "nbformat": 4,
 "nbformat_minor": 4
}
